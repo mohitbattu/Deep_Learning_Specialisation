{
 "cells": [
  {
   "cell_type": "code",
   "execution_count": 1,
   "metadata": {},
   "outputs": [],
   "source": [
    "from __future__ import print_function, division\n",
    "from builtins import range"
   ]
  },
  {
   "cell_type": "code",
   "execution_count": 2,
   "metadata": {},
   "outputs": [
    {
     "name": "stderr",
     "output_type": "stream",
     "text": [
      "Using TensorFlow backend.\n"
     ]
    }
   ],
   "source": [
    "from keras.models import Sequential\n",
    "\n",
    "from keras.layers import Dense, Activation, Conv2D, MaxPooling2D, Flatten, Dropout, BatchNormalization"
   ]
  },
  {
   "cell_type": "code",
   "execution_count": 3,
   "metadata": {},
   "outputs": [],
   "source": [
    "import matplotlib.pyplot as plt\n",
    "\n",
    "import pandas as pd\n",
    "\n",
    "import numpy as np"
   ]
  },
  {
   "cell_type": "code",
   "execution_count": 5,
   "metadata": {},
   "outputs": [],
   "source": [
    "def y2indicator(Y):\n",
    "\n",
    "  N = len(Y)\n",
    "\n",
    "  K = len(set(Y))\n",
    "\n",
    "  I = np.zeros((N, K))\n",
    "\n",
    "  I[np.arange(N), Y] = 1\n",
    "\n",
    "  return I\n",
    "#it should not be list of indexes.it should be one hot encoded.\n"
   ]
  },
  {
   "cell_type": "code",
   "execution_count": 29,
   "metadata": {},
   "outputs": [
    {
     "data": {
      "text/plain": [
       "array([0, 1])"
      ]
     },
     "execution_count": 29,
     "metadata": {},
     "output_type": "execute_result"
    }
   ],
   "source": [
    "np.arange(2)"
   ]
  },
  {
   "cell_type": "code",
   "execution_count": 28,
   "metadata": {},
   "outputs": [
    {
     "data": {
      "text/plain": [
       "'C:\\\\Users\\\\raobk\\\\Desktop\\\\Advanced CV\\\\fashionmnist'"
      ]
     },
     "execution_count": 28,
     "metadata": {},
     "output_type": "execute_result"
    }
   ],
   "source": [
    "import os\n",
    "os.getcwd()"
   ]
  },
  {
   "cell_type": "code",
   "execution_count": 14,
   "metadata": {},
   "outputs": [],
   "source": [
    "os.chdir('/Users/raobk/Desktop/Advanced CV/fashionmnist')"
   ]
  },
  {
   "cell_type": "code",
   "execution_count": 31,
   "metadata": {},
   "outputs": [],
   "source": [
    "data = pd.read_csv('fashion-mnist_train.csv')\n",
    "data = data.values\n",
    "np.random.shuffle(data)"
   ]
  },
  {
   "cell_type": "code",
   "execution_count": 33,
   "metadata": {},
   "outputs": [
    {
     "data": {
      "text/plain": [
       "array([[8, 0, 0, ..., 0, 0, 0],\n",
       "       [2, 0, 0, ..., 0, 0, 0],\n",
       "       [4, 0, 0, ..., 0, 0, 0],\n",
       "       ..., \n",
       "       [6, 0, 0, ..., 0, 0, 0],\n",
       "       [2, 0, 0, ..., 0, 0, 0],\n",
       "       [5, 0, 0, ..., 0, 0, 0]], dtype=int64)"
      ]
     },
     "execution_count": 33,
     "metadata": {},
     "output_type": "execute_result"
    }
   ],
   "source": [
    "data"
   ]
  },
  {
   "cell_type": "code",
   "execution_count": 36,
   "metadata": {},
   "outputs": [],
   "source": [
    "X = data[:, 1:].reshape(-1, 28, 28, 1) / 255.0#it will convert the images into gray scale and then it will be converted into normalized form\n",
    "\n",
    "Y = data[:, 0].astype(np.int32)"
   ]
  },
  {
   "cell_type": "code",
   "execution_count": 42,
   "metadata": {},
   "outputs": [
    {
     "data": {
      "text/plain": [
       "{0, 1, 2, 3, 4, 5, 6, 7, 8, 9}"
      ]
     },
     "execution_count": 42,
     "metadata": {},
     "output_type": "execute_result"
    }
   ],
   "source": [
    "set(Y)"
   ]
  },
  {
   "cell_type": "code",
   "execution_count": 43,
   "metadata": {},
   "outputs": [],
   "source": [
    "# get shapes\n",
    "\n",
    "# N = len(Y)\n",
    "\n",
    "K = len(set(Y))#total classes in the y label"
   ]
  },
  {
   "cell_type": "code",
   "execution_count": 44,
   "metadata": {},
   "outputs": [],
   "source": [
    "# by default Keras wants one-hot encoded labels\n",
    "\n",
    "# there's another cost function we can use\n",
    "\n",
    "# where we can just pass in the integer labels directly\n",
    "\n",
    "# just like Tensorflow / Theano\n",
    "#converted into one hot encoded form.\n",
    "\n",
    "Y = y2indicator(Y)"
   ]
  },
  {
   "cell_type": "code",
   "execution_count": 45,
   "metadata": {},
   "outputs": [
    {
     "data": {
      "text/plain": [
       "array([[ 0.,  0.,  0., ...,  0.,  1.,  0.],\n",
       "       [ 0.,  0.,  1., ...,  0.,  0.,  0.],\n",
       "       [ 0.,  0.,  0., ...,  0.,  0.,  0.],\n",
       "       ..., \n",
       "       [ 0.,  0.,  0., ...,  0.,  0.,  0.],\n",
       "       [ 0.,  0.,  1., ...,  0.,  0.,  0.],\n",
       "       [ 0.,  0.,  0., ...,  0.,  0.,  0.]])"
      ]
     },
     "execution_count": 45,
     "metadata": {},
     "output_type": "execute_result"
    }
   ],
   "source": [
    "Y"
   ]
  },
  {
   "cell_type": "code",
   "execution_count": 46,
   "metadata": {},
   "outputs": [],
   "source": [
    "# the model will be a sequence of layers\n",
    "\n",
    "model = Sequential()\n",
    "\n",
    "\n",
    "\n",
    "\n",
    "\n",
    "# make the CNN\n",
    "\n",
    "# model.add(Input(shape=(28, 28, 1)))\n",
    "\n",
    "model.add(Conv2D(input_shape=(28, 28, 1), filters=32, kernel_size=(3, 3)))\n",
    "\n",
    "model.add(BatchNormalization())\n",
    "\n",
    "model.add(Activation('relu'))\n",
    "\n",
    "model.add(MaxPooling2D())\n",
    "\n",
    "\n",
    "\n",
    "model.add(Conv2D(filters=64, kernel_size=(3, 3)))\n",
    "\n",
    "model.add(BatchNormalization())\n",
    "\n",
    "model.add(Activation('relu'))\n",
    "\n",
    "model.add(MaxPooling2D())\n",
    "\n",
    "\n",
    "\n",
    "model.add(Conv2D(filters=128, kernel_size=(3, 3)))\n",
    "\n",
    "model.add(BatchNormalization())\n",
    "\n",
    "model.add(Activation('relu'))\n",
    "\n",
    "model.add(MaxPooling2D())\n",
    "\n",
    "\n",
    "\n",
    "model.add(Flatten())\n",
    "\n",
    "model.add(Dense(units=300))\n",
    "\n",
    "model.add(Activation('relu'))\n",
    "\n",
    "model.add(Dropout(0.2))\n",
    "\n",
    "model.add(Dense(units=K))\n",
    "\n",
    "model.add(Activation('softmax'))\n",
    "\n"
   ]
  },
  {
   "cell_type": "code",
   "execution_count": 47,
   "metadata": {},
   "outputs": [],
   "source": [
    "# list of losses: https://keras.io/losses/\n",
    "\n",
    "# list of optimizers: https://keras.io/optimizers/\n",
    "\n",
    "# list of metrics: https://keras.io/metrics/\n",
    "\n",
    "model.compile(\n",
    "\n",
    "  loss='categorical_crossentropy',\n",
    "\n",
    "  optimizer='adam',\n",
    "\n",
    "  metrics=['accuracy']\n",
    "\n",
    ")"
   ]
  },
  {
   "cell_type": "code",
   "execution_count": 48,
   "metadata": {},
   "outputs": [
    {
     "name": "stdout",
     "output_type": "stream",
     "text": [
      "Train on 40199 samples, validate on 19801 samples\n",
      "Epoch 1/15\n",
      "40199/40199 [==============================] - 107s 3ms/step - loss: 0.5061 - acc: 0.8173 - val_loss: 0.4297 - val_acc: 0.8446\n",
      "Epoch 2/15\n",
      "40199/40199 [==============================] - 98s 2ms/step - loss: 0.3557 - acc: 0.8680 - val_loss: 0.3825 - val_acc: 0.8616\n",
      "Epoch 3/15\n",
      "40199/40199 [==============================] - 103s 3ms/step - loss: 0.3051 - acc: 0.8869 - val_loss: 0.4420 - val_acc: 0.8380\n",
      "Epoch 4/15\n",
      "40199/40199 [==============================] - 102s 3ms/step - loss: 0.2726 - acc: 0.8983 - val_loss: 0.3435 - val_acc: 0.8822\n",
      "Epoch 5/15\n",
      "40199/40199 [==============================] - 97s 2ms/step - loss: 0.2427 - acc: 0.9093 - val_loss: 0.3425 - val_acc: 0.8772\n",
      "Epoch 6/15\n",
      "40199/40199 [==============================] - 98s 2ms/step - loss: 0.2194 - acc: 0.9173 - val_loss: 0.3214 - val_acc: 0.8850\n",
      "Epoch 7/15\n",
      "40199/40199 [==============================] - 98s 2ms/step - loss: 0.1975 - acc: 0.9253 - val_loss: 0.3363 - val_acc: 0.8871\n",
      "Epoch 8/15\n",
      "40199/40199 [==============================] - 99s 2ms/step - loss: 0.1826 - acc: 0.9299 - val_loss: 0.3866 - val_acc: 0.8739\n",
      "Epoch 9/15\n",
      "40199/40199 [==============================] - 98s 2ms/step - loss: 0.1594 - acc: 0.9398 - val_loss: 0.3799 - val_acc: 0.8810\n",
      "Epoch 10/15\n",
      "40199/40199 [==============================] - 95s 2ms/step - loss: 0.1487 - acc: 0.9438 - val_loss: 0.3386 - val_acc: 0.8941\n",
      "Epoch 11/15\n",
      "40199/40199 [==============================] - 89s 2ms/step - loss: 0.1348 - acc: 0.9481 - val_loss: 0.4467 - val_acc: 0.8800\n",
      "Epoch 12/15\n",
      "40199/40199 [==============================] - 90s 2ms/step - loss: 0.1259 - acc: 0.9511 - val_loss: 0.4580 - val_acc: 0.8698\n",
      "Epoch 13/15\n",
      "40199/40199 [==============================] - 89s 2ms/step - loss: 0.1111 - acc: 0.9583 - val_loss: 0.4481 - val_acc: 0.8881\n",
      "Epoch 14/15\n",
      "40199/40199 [==============================] - 89s 2ms/step - loss: 0.1067 - acc: 0.9585 - val_loss: 0.4656 - val_acc: 0.8780\n",
      "Epoch 15/15\n",
      "40199/40199 [==============================] - 90s 2ms/step - loss: 0.1001 - acc: 0.9629 - val_loss: 0.4715 - val_acc: 0.8881\n",
      "Returned: <keras.callbacks.History object at 0x0000026D8047F668>\n"
     ]
    }
   ],
   "source": [
    "# note: multiple ways to choose a backend\n",
    "\n",
    "# either theano, tensorflow, or cntk\n",
    "\n",
    "# https://keras.io/backend/\n",
    "\n",
    "\n",
    "\n",
    "\n",
    "\n",
    "# gives us back a <keras.callbacks.History object at 0x112e61a90>\n",
    "\n",
    "r = model.fit(X, Y, validation_split=0.33, epochs=15, batch_size=32)\n",
    "\n",
    "print(\"Returned:\", r)\n",
    "\n"
   ]
  },
  {
   "cell_type": "code",
   "execution_count": 50,
   "metadata": {},
   "outputs": [
    {
     "name": "stdout",
     "output_type": "stream",
     "text": [
      "dict_keys(['val_loss', 'val_acc', 'loss', 'acc'])\n"
     ]
    }
   ],
   "source": [
    "\n",
    "# print the available keys\n",
    "\n",
    "# should see: dict_keys(['val_loss', 'acc', 'loss', 'val_acc'])\n",
    "\n",
    "print(r.history.keys())"
   ]
  },
  {
   "cell_type": "code",
   "execution_count": 51,
   "metadata": {},
   "outputs": [
    {
     "data": {
      "image/png": "[encoded data removed]",
      "text/plain": [
       "<Figure size 432x288 with 1 Axes>"
      ]
     },
     "metadata": {
      "needs_background": "light"
     },
     "output_type": "display_data"
    }
   ],
   "source": [
    "\n",
    "# plot some data\n",
    "\n",
    "plt.plot(r.history['loss'], label='loss')\n",
    "\n",
    "plt.plot(r.history['val_loss'], label='val_loss')\n",
    "\n",
    "plt.legend()\n",
    "\n",
    "plt.show()"
   ]
  },
  {
   "cell_type": "code",
   "execution_count": 52,
   "metadata": {},
   "outputs": [
    {
     "data": {
      "image/png": "[encoded data removed]",
      "text/plain": [
       "<Figure size 432x288 with 1 Axes>"
      ]
     },
     "metadata": {
      "needs_background": "light"
     },
     "output_type": "display_data"
    }
   ],
   "source": [
    "# accuracies\n",
    "\n",
    "plt.plot(r.history['acc'], label='acc')\n",
    "\n",
    "plt.plot(r.history['val_acc'], label='val_acc')\n",
    "\n",
    "plt.legend()\n",
    "\n",
    "plt.show()"
   ]
  },
  {
   "cell_type": "code",
   "execution_count": 3,
   "metadata": {},
   "outputs": [
    {
     "ename": "ModuleNotFoundError",
     "evalue": "No module named 'util'",
     "output_type": "error",
     "traceback": [
      "\u001b[1;31m---------------------------------------------------------------------------\u001b[0m",
      "\u001b[1;31mModuleNotFoundError\u001b[0m                       Traceback (most recent call last)",
      "\u001b[1;32m<ipython-input-3-418a873975c0>\u001b[0m in \u001b[0;36m<module>\u001b[1;34m\u001b[0m\n\u001b[1;32m----> 1\u001b[1;33m \u001b[1;32mimport\u001b[0m \u001b[0mutil\u001b[0m\u001b[1;33m\u001b[0m\u001b[1;33m\u001b[0m\u001b[0m\n\u001b[0m",
      "\u001b[1;31mModuleNotFoundError\u001b[0m: No module named 'util'"
     ]
    }
   ],
   "source": [
    "import util"
   ]
  },
  {
   "cell_type": "code",
   "execution_count": null,
   "metadata": {},
   "outputs": [],
   "source": []
  }
 ],
 "metadata": {
  "kernelspec": {
   "display_name": "Python 3",
   "language": "python",
   "name": "python3"
  },
  "language_info": {
   "codemirror_mode": {
    "name": "ipython",
    "version": 3
   },
   "file_extension": ".py",
   "mimetype": "text/x-python",
   "name": "python",
   "nbconvert_exporter": "python",
   "pygments_lexer": "ipython3",
   "version": "3.6.10"
  }
 },
 "nbformat": 4,
 "nbformat_minor": 2
}
